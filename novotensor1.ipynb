{
  "nbformat": 4,
  "nbformat_minor": 0,
  "metadata": {
    "colab": {
      "name": "Untitled5.ipynb",
      "provenance": [],
      "authorship_tag": "ABX9TyPtIz1q0hkQdxpu8V657LY8",
      "include_colab_link": true
    },
    "kernelspec": {
      "name": "python3",
      "display_name": "Python 3"
    },
    "language_info": {
      "name": "python"
    }
  },
  "cells": [
    {
      "cell_type": "markdown",
      "metadata": {
        "id": "view-in-github",
        "colab_type": "text"
      },
      "source": [
        "<a href=\"https://colab.research.google.com/github/wand3rl3y/tensorflow1/blob/ramo1/novotensor1.ipynb\" target=\"_parent\"><img src=\"https://colab.research.google.com/assets/colab-badge.svg\" alt=\"Open In Colab\"/></a>"
      ]
    },
    {
      "cell_type": "markdown",
      "source": [
        "## TensorFlow Primeiro teste por aqui \n"
      ],
      "metadata": {
        "id": "KUCAD_8Cpm0q"
      }
    },
    {
      "cell_type": "code",
      "source": [
        "import os \n",
        "# Tive que importar o tensorflow mais antigo por causa do curso ser velho pocha \n",
        "#linkedin\n",
        "#import tensorflow as tf\n",
        "import tensorflow.compat.v1 as tf \n",
        "tf.disable_v2_behavior()\n",
        "\n",
        "# Desliga as mensagens de erro do tensorflow\n",
        "os.environ['TF_CPP_MIN_LOG_LEVEL'] = '2'"
      ],
      "metadata": {
        "id": "OgDiylgOpiTc"
      },
      "execution_count": 20,
      "outputs": []
    },
    {
      "cell_type": "code",
      "source": [
        "x = tf.placeholder(tf.float32 , name = \"x\")\n",
        "y = tf.placeholder(tf.float32 , name = \"y\")"
      ],
      "metadata": {
        "id": "YnCAUBrlqFZB"
      },
      "execution_count": 17,
      "outputs": []
    },
    {
      "cell_type": "code",
      "source": [
        "addition = tf.add(x,y, name = 'addition')"
      ],
      "metadata": {
        "id": "RTZB5iltqSGF"
      },
      "execution_count": 18,
      "outputs": []
    },
    {
      "cell_type": "code",
      "source": [
        "from tensorflow.python.ops.gen_math_ops import add\n",
        "with tf.Session() as session:\n",
        "  result = session.run(addition, feed_dict ={x: [1, 2 , 10], y: [4, 3 ,10 ]})\n",
        "\n",
        "result"
      ],
      "metadata": {
        "colab": {
          "base_uri": "https://localhost:8080/"
        },
        "id": "7Gb96q2pqUlz",
        "outputId": "31c89219-26f8-4a98-b485-7af00f1235af"
      },
      "execution_count": 19,
      "outputs": [
        {
          "output_type": "execute_result",
          "data": {
            "text/plain": [
              "array([ 5.,  5., 20.], dtype=float32)"
            ]
          },
          "metadata": {},
          "execution_count": 19
        }
      ]
    }
  ]
}